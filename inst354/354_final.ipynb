{
 "cells": [
  {
   "cell_type": "markdown",
   "metadata": {},
   "source": [
    "INST 354 - 0201\n",
    "Final Project\n",
    "\n",
    "Penelope Newcomb"
   ]
  },
  {
   "cell_type": "code",
   "execution_count": 12,
   "metadata": {},
   "outputs": [],
   "source": [
    "import pandas as pd\n",
    "from sklearn.linear_model import LogisticRegression\n",
    "from sklearn.model_selection import train_test_split\n",
    "from sklearn.metrics import classification_report, confusion_matrix\n",
    "from sklearn.metrics import roc_auc_score, roc_curve, accuracy_score\n",
    "from sklearn.metrics import precision_score, recall_score\n",
    "from sklearn import preprocessing\n",
    "import numpy as np\n",
    "import matplotlib.pyplot as plt\n",
    "import seaborn as sns\n",
    "%matplotlib inline"
   ]
  },
  {
   "cell_type": "code",
   "execution_count": 13,
   "metadata": {},
   "outputs": [],
   "source": [
    "shark_df = pd.read_csv(\"C:\\\\Users\\\\pnewc\\\\Desktop\\\\INST 354\\\\IOTC_ll_untuned_final_predict.csv\")"
   ]
  },
  {
   "cell_type": "code",
   "execution_count": 14,
   "metadata": {},
   "outputs": [
    {
     "data": {
      "text/html": [
       "<div>\n",
       "<style scoped>\n",
       "    .dataframe tbody tr th:only-of-type {\n",
       "        vertical-align: middle;\n",
       "    }\n",
       "\n",
       "    .dataframe tbody tr th {\n",
       "        vertical-align: top;\n",
       "    }\n",
       "\n",
       "    .dataframe thead th {\n",
       "        text-align: right;\n",
       "    }\n",
       "</style>\n",
       "<table border=\"1\" class=\"dataframe\">\n",
       "  <thead>\n",
       "    <tr style=\"text-align: right;\">\n",
       "      <th></th>\n",
       "      <th>year</th>\n",
       "      <th>latitude</th>\n",
       "      <th>longitude</th>\n",
       "      <th>species_sciname</th>\n",
       "      <th>pres_abs</th>\n",
       "      <th>zone</th>\n",
       "    </tr>\n",
       "  </thead>\n",
       "  <tbody>\n",
       "    <tr>\n",
       "      <th>0</th>\n",
       "      <td>0</td>\n",
       "      <td>3</td>\n",
       "      <td>0</td>\n",
       "      <td>6</td>\n",
       "      <td>1</td>\n",
       "      <td>135</td>\n",
       "    </tr>\n",
       "    <tr>\n",
       "      <th>1</th>\n",
       "      <td>0</td>\n",
       "      <td>3</td>\n",
       "      <td>0</td>\n",
       "      <td>5</td>\n",
       "      <td>1</td>\n",
       "      <td>135</td>\n",
       "    </tr>\n",
       "    <tr>\n",
       "      <th>2</th>\n",
       "      <td>0</td>\n",
       "      <td>3</td>\n",
       "      <td>0</td>\n",
       "      <td>4</td>\n",
       "      <td>1</td>\n",
       "      <td>135</td>\n",
       "    </tr>\n",
       "    <tr>\n",
       "      <th>3</th>\n",
       "      <td>0</td>\n",
       "      <td>3</td>\n",
       "      <td>0</td>\n",
       "      <td>7</td>\n",
       "      <td>1</td>\n",
       "      <td>135</td>\n",
       "    </tr>\n",
       "    <tr>\n",
       "      <th>4</th>\n",
       "      <td>0</td>\n",
       "      <td>3</td>\n",
       "      <td>0</td>\n",
       "      <td>2</td>\n",
       "      <td>0</td>\n",
       "      <td>135</td>\n",
       "    </tr>\n",
       "  </tbody>\n",
       "</table>\n",
       "</div>"
      ],
      "text/plain": [
       "   year  latitude  longitude  species_sciname  pres_abs  zone\n",
       "0     0         3          0                6         1   135\n",
       "1     0         3          0                5         1   135\n",
       "2     0         3          0                4         1   135\n",
       "3     0         3          0                7         1   135\n",
       "4     0         3          0                2         0   135"
      ]
     },
     "execution_count": 14,
     "metadata": {},
     "output_type": "execute_result"
    }
   ],
   "source": [
    "shark_filtered = shark_df[['year', 'latitude', 'longitude', 'species_sciname', 'pres_abs','zone']]\n",
    "\n",
    "from sklearn.preprocessing import LabelEncoder\n",
    "shark_filtered = shark_filtered.apply(LabelEncoder().fit_transform)\n",
    "\n",
    "shark_filtered.head()"
   ]
  },
  {
   "cell_type": "code",
   "execution_count": 15,
   "metadata": {},
   "outputs": [],
   "source": [
    "x = shark_filtered.drop(\"pres_abs\", axis=1)\n",
    "y = shark_filtered['pres_abs'] "
   ]
  },
  {
   "cell_type": "code",
   "execution_count": 16,
   "metadata": {},
   "outputs": [],
   "source": [
    "x_train,x_test,y_train,y_test=train_test_split(x,y,test_size=0.25,random_state=0)"
   ]
  },
  {
   "cell_type": "code",
   "execution_count": 17,
   "metadata": {},
   "outputs": [],
   "source": [
    "LogReg = LogisticRegression()\n",
    "LogReg.fit(x_train,y_train)\n",
    "\n",
    "y_pred=LogReg.predict(x_test)"
   ]
  },
  {
   "cell_type": "code",
   "execution_count": 18,
   "metadata": {},
   "outputs": [
    {
     "name": "stdout",
     "output_type": "stream",
     "text": [
      "Classes [0 1]\n",
      "Intercept [-1.27700239]\n",
      "Coefficients [[-0.03665034  0.06451016 -0.08762735  0.24718132 -0.00163682]]\n"
     ]
    }
   ],
   "source": [
    "print('Classes', LogReg.classes_)\n",
    "print('Intercept',LogReg.intercept_)\n",
    "print(\"Coefficients\", LogReg.coef_ )"
   ]
  },
  {
   "cell_type": "code",
   "execution_count": 19,
   "metadata": {},
   "outputs": [
    {
     "name": "stdout",
     "output_type": "stream",
     "text": [
      "Accuracy 0.7013333333333334\n",
      "              precision    recall  f1-score   support\n",
      "\n",
      "           0       0.74      0.90      0.81      2447\n",
      "           1       0.40      0.17      0.24       928\n",
      "\n",
      "    accuracy                           0.70      3375\n",
      "   macro avg       0.57      0.54      0.53      3375\n",
      "weighted avg       0.65      0.70      0.66      3375\n",
      "\n"
     ]
    }
   ],
   "source": [
    "print(\"Accuracy\", LogReg.score(x_test, y_test))\n",
    "print(classification_report(y_test, LogReg.predict(x_test)))"
   ]
  },
  {
   "cell_type": "code",
   "execution_count": 20,
   "metadata": {},
   "outputs": [
    {
     "data": {
      "text/plain": [
       "array([[2210,  237],\n",
       "       [ 771,  157]], dtype=int64)"
      ]
     },
     "execution_count": 20,
     "metadata": {},
     "output_type": "execute_result"
    }
   ],
   "source": [
    "conf_mat = confusion_matrix(y_test, y_pred)\n",
    "conf_mat"
   ]
  },
  {
   "cell_type": "code",
   "execution_count": 21,
   "metadata": {},
   "outputs": [
    {
     "name": "stdout",
     "output_type": "stream",
     "text": [
      "Classes [0 1]\n",
      "Intercept [-3.70760548]\n",
      "Coefficients [[ 0.19902951  1.0730789  -0.71096524  0.         -0.08463487]]\n",
      "Accuracy 0.9626666666666667\n",
      "              precision    recall  f1-score   support\n",
      "\n",
      "           0       0.96      1.00      0.98       361\n",
      "           1       0.00      0.00      0.00        14\n",
      "\n",
      "    accuracy                           0.96       375\n",
      "   macro avg       0.48      0.50      0.49       375\n",
      "weighted avg       0.93      0.96      0.94       375\n",
      "\n"
     ]
    },
    {
     "name": "stderr",
     "output_type": "stream",
     "text": [
      "c:\\Users\\pnewc\\AppData\\Local\\Programs\\Python\\Python311\\Lib\\site-packages\\sklearn\\metrics\\_classification.py:1509: UndefinedMetricWarning: Precision is ill-defined and being set to 0.0 in labels with no predicted samples. Use `zero_division` parameter to control this behavior.\n",
      "  _warn_prf(average, modifier, f\"{metric.capitalize()} is\", len(result))\n",
      "c:\\Users\\pnewc\\AppData\\Local\\Programs\\Python\\Python311\\Lib\\site-packages\\sklearn\\metrics\\_classification.py:1509: UndefinedMetricWarning: Precision is ill-defined and being set to 0.0 in labels with no predicted samples. Use `zero_division` parameter to control this behavior.\n",
      "  _warn_prf(average, modifier, f\"{metric.capitalize()} is\", len(result))\n",
      "c:\\Users\\pnewc\\AppData\\Local\\Programs\\Python\\Python311\\Lib\\site-packages\\sklearn\\metrics\\_classification.py:1509: UndefinedMetricWarning: Precision is ill-defined and being set to 0.0 in labels with no predicted samples. Use `zero_division` parameter to control this behavior.\n",
      "  _warn_prf(average, modifier, f\"{metric.capitalize()} is\", len(result))\n"
     ]
    },
    {
     "data": {
      "text/plain": [
       "array([[361,   0],\n",
       "       [ 14,   0]], dtype=int64)"
      ]
     },
     "execution_count": 21,
     "metadata": {},
     "output_type": "execute_result"
    }
   ],
   "source": [
    "#ALOPIAS\n",
    "alopias = shark_filtered[shark_filtered[\"species_sciname\"]==0]\n",
    "x = alopias.drop(\"pres_abs\",axis=1)\n",
    "y = alopias.pres_abs\n",
    "x_train,x_test,y_train,y_test=train_test_split(x,y,test_size=0.25,random_state=0)\n",
    "LogReg = LogisticRegression()\n",
    "\n",
    "scaler = preprocessing.StandardScaler()\n",
    "x_train = scaler.fit_transform(x_train)\n",
    "x_test = scaler.transform(x_test)\n",
    "\n",
    "LogReg.fit(x_train,y_train)\n",
    "\n",
    "y_pred=LogReg.predict(x_test)\n",
    "\n",
    "print('Classes', LogReg.classes_)\n",
    "print('Intercept',LogReg.intercept_)\n",
    "print(\"Coefficients\", LogReg.coef_ )\n",
    "\n",
    "print(\"Accuracy\", LogReg.score(x_test, y_test))\n",
    "print(classification_report(y_test, LogReg.predict(x_test)))\n",
    "\n",
    "conf_mat = confusion_matrix(y_test, y_pred)\n",
    "conf_mat"
   ]
  },
  {
   "cell_type": "code",
   "execution_count": 22,
   "metadata": {},
   "outputs": [
    {
     "name": "stdout",
     "output_type": "stream",
     "text": [
      "Classes [0 1]\n",
      "Intercept [-6.60209395]\n",
      "Coefficients [[-0.07803284 -0.01435962 -1.35454109  0.         -1.65909816]]\n",
      "Accuracy 0.9973333333333333\n",
      "              precision    recall  f1-score   support\n",
      "\n",
      "           0       1.00      1.00      1.00       374\n",
      "           1       0.00      0.00      0.00         1\n",
      "\n",
      "    accuracy                           1.00       375\n",
      "   macro avg       0.50      0.50      0.50       375\n",
      "weighted avg       0.99      1.00      1.00       375\n",
      "\n"
     ]
    },
    {
     "name": "stderr",
     "output_type": "stream",
     "text": [
      "c:\\Users\\pnewc\\AppData\\Local\\Programs\\Python\\Python311\\Lib\\site-packages\\sklearn\\metrics\\_classification.py:1509: UndefinedMetricWarning: Precision is ill-defined and being set to 0.0 in labels with no predicted samples. Use `zero_division` parameter to control this behavior.\n",
      "  _warn_prf(average, modifier, f\"{metric.capitalize()} is\", len(result))\n",
      "c:\\Users\\pnewc\\AppData\\Local\\Programs\\Python\\Python311\\Lib\\site-packages\\sklearn\\metrics\\_classification.py:1509: UndefinedMetricWarning: Precision is ill-defined and being set to 0.0 in labels with no predicted samples. Use `zero_division` parameter to control this behavior.\n",
      "  _warn_prf(average, modifier, f\"{metric.capitalize()} is\", len(result))\n",
      "c:\\Users\\pnewc\\AppData\\Local\\Programs\\Python\\Python311\\Lib\\site-packages\\sklearn\\metrics\\_classification.py:1509: UndefinedMetricWarning: Precision is ill-defined and being set to 0.0 in labels with no predicted samples. Use `zero_division` parameter to control this behavior.\n",
      "  _warn_prf(average, modifier, f\"{metric.capitalize()} is\", len(result))\n"
     ]
    },
    {
     "data": {
      "text/plain": [
       "array([[374,   0],\n",
       "       [  1,   0]], dtype=int64)"
      ]
     },
     "execution_count": 22,
     "metadata": {},
     "output_type": "execute_result"
    }
   ],
   "source": [
    "#CARCHARHINIDAE\n",
    "carch = shark_filtered[shark_filtered[\"species_sciname\"]==1]\n",
    "x = carch.drop(\"pres_abs\",axis=1)\n",
    "y = carch.pres_abs\n",
    "x_train,x_test,y_train,y_test=train_test_split(x,y,test_size=0.25,random_state=0)\n",
    "LogReg = LogisticRegression()\n",
    "\n",
    "scaler = preprocessing.StandardScaler()\n",
    "x_train = scaler.fit_transform(x_train)\n",
    "x_test = scaler.transform(x_test)\n",
    "\n",
    "LogReg.fit(x_train,y_train)\n",
    "\n",
    "y_pred=LogReg.predict(x_test)\n",
    "\n",
    "print('Classes', LogReg.classes_)\n",
    "print('Intercept',LogReg.intercept_)\n",
    "print(\"Coefficients\", LogReg.coef_ )\n",
    "\n",
    "print(\"Accuracy\", LogReg.score(x_test, y_test))\n",
    "print(classification_report(y_test, LogReg.predict(x_test)))\n",
    "\n",
    "conf_mat = confusion_matrix(y_test, y_pred)\n",
    "conf_mat"
   ]
  },
  {
   "cell_type": "markdown",
   "metadata": {},
   "source": []
  },
  {
   "cell_type": "code",
   "execution_count": 23,
   "metadata": {},
   "outputs": [
    {
     "name": "stdout",
     "output_type": "stream",
     "text": [
      "Classes [0 1]\n",
      "Intercept [-0.53606435]\n",
      "Coefficients [[ 0.13759815  1.19397344 -1.00858162  0.         -0.23063648]]\n",
      "Accuracy 0.744\n",
      "              precision    recall  f1-score   support\n",
      "\n",
      "           0       0.75      0.82      0.79       215\n",
      "           1       0.73      0.64      0.68       160\n",
      "\n",
      "    accuracy                           0.74       375\n",
      "   macro avg       0.74      0.73      0.73       375\n",
      "weighted avg       0.74      0.74      0.74       375\n",
      "\n"
     ]
    },
    {
     "data": {
      "text/plain": [
       "array([[177,  38],\n",
       "       [ 58, 102]], dtype=int64)"
      ]
     },
     "execution_count": 23,
     "metadata": {},
     "output_type": "execute_result"
    }
   ],
   "source": [
    "#CARCHARHINUS FALCIFORMIS\n",
    "falci = shark_filtered[shark_filtered[\"species_sciname\"]==2]\n",
    "x = falci.drop(\"pres_abs\",axis=1)\n",
    "y = falci.pres_abs\n",
    "x_train,x_test,y_train,y_test=train_test_split(x,y,test_size=0.25,random_state=0)\n",
    "LogReg = LogisticRegression()\n",
    "\n",
    "scaler = preprocessing.StandardScaler()\n",
    "x_train = scaler.fit_transform(x_train)\n",
    "x_test = scaler.transform(x_test)\n",
    "\n",
    "LogReg.fit(x_train,y_train)\n",
    "\n",
    "y_pred=LogReg.predict(x_test)\n",
    "\n",
    "print('Classes', LogReg.classes_)\n",
    "print('Intercept',LogReg.intercept_)\n",
    "print(\"Coefficients\", LogReg.coef_ )\n",
    "\n",
    "print(\"Accuracy\", LogReg.score(x_test, y_test))\n",
    "print(classification_report(y_test, LogReg.predict(x_test)))\n",
    "\n",
    "conf_mat = confusion_matrix(y_test, y_pred)\n",
    "conf_mat"
   ]
  },
  {
   "cell_type": "code",
   "execution_count": 24,
   "metadata": {},
   "outputs": [
    {
     "name": "stdout",
     "output_type": "stream",
     "text": [
      "Classes [0 1]\n",
      "Intercept [-3.08640634]\n",
      "Coefficients [[-0.33578631  0.54178318 -0.10668458  0.          0.01786762]]\n",
      "Accuracy 0.9493333333333334\n",
      "              precision    recall  f1-score   support\n",
      "\n",
      "           0       0.95      1.00      0.97       356\n",
      "           1       0.00      0.00      0.00        19\n",
      "\n",
      "    accuracy                           0.95       375\n",
      "   macro avg       0.47      0.50      0.49       375\n",
      "weighted avg       0.90      0.95      0.92       375\n",
      "\n"
     ]
    },
    {
     "name": "stderr",
     "output_type": "stream",
     "text": [
      "c:\\Users\\pnewc\\AppData\\Local\\Programs\\Python\\Python311\\Lib\\site-packages\\sklearn\\metrics\\_classification.py:1509: UndefinedMetricWarning: Precision is ill-defined and being set to 0.0 in labels with no predicted samples. Use `zero_division` parameter to control this behavior.\n",
      "  _warn_prf(average, modifier, f\"{metric.capitalize()} is\", len(result))\n",
      "c:\\Users\\pnewc\\AppData\\Local\\Programs\\Python\\Python311\\Lib\\site-packages\\sklearn\\metrics\\_classification.py:1509: UndefinedMetricWarning: Precision is ill-defined and being set to 0.0 in labels with no predicted samples. Use `zero_division` parameter to control this behavior.\n",
      "  _warn_prf(average, modifier, f\"{metric.capitalize()} is\", len(result))\n",
      "c:\\Users\\pnewc\\AppData\\Local\\Programs\\Python\\Python311\\Lib\\site-packages\\sklearn\\metrics\\_classification.py:1509: UndefinedMetricWarning: Precision is ill-defined and being set to 0.0 in labels with no predicted samples. Use `zero_division` parameter to control this behavior.\n",
      "  _warn_prf(average, modifier, f\"{metric.capitalize()} is\", len(result))\n"
     ]
    },
    {
     "data": {
      "text/plain": [
       "array([[356,   0],\n",
       "       [ 19,   0]], dtype=int64)"
      ]
     },
     "execution_count": 24,
     "metadata": {},
     "output_type": "execute_result"
    }
   ],
   "source": [
    "#CARCHARHINUS LONGIMANUS\n",
    "longi = shark_filtered[shark_filtered[\"species_sciname\"]==3]\n",
    "x = longi.drop(\"pres_abs\",axis=1)\n",
    "y = longi.pres_abs\n",
    "x_train,x_test,y_train,y_test=train_test_split(x,y,test_size=0.25,random_state=0)\n",
    "LogReg = LogisticRegression()\n",
    "\n",
    "scaler = preprocessing.StandardScaler()\n",
    "x_train = scaler.fit_transform(x_train)\n",
    "x_test = scaler.transform(x_test)\n",
    "\n",
    "LogReg.fit(x_train,y_train)\n",
    "\n",
    "y_pred=LogReg.predict(x_test)\n",
    "\n",
    "print('Classes', LogReg.classes_)\n",
    "print('Intercept',LogReg.intercept_)\n",
    "print(\"Coefficients\", LogReg.coef_ )\n",
    "\n",
    "print(\"Accuracy\", LogReg.score(x_test, y_test))\n",
    "print(classification_report(y_test, LogReg.predict(x_test)))\n",
    "\n",
    "conf_mat = confusion_matrix(y_test, y_pred)\n",
    "conf_mat"
   ]
  },
  {
   "cell_type": "code",
   "execution_count": 25,
   "metadata": {},
   "outputs": [
    {
     "name": "stdout",
     "output_type": "stream",
     "text": [
      "Classes [0 1]\n",
      "Intercept [-2.81866571]\n",
      "Coefficients [[-0.61493204 -0.29138989 -0.62343828  0.         -0.27861428]]\n",
      "Accuracy 0.936\n",
      "              precision    recall  f1-score   support\n",
      "\n",
      "           0       0.94      1.00      0.97       351\n",
      "           1       0.00      0.00      0.00        24\n",
      "\n",
      "    accuracy                           0.94       375\n",
      "   macro avg       0.47      0.50      0.48       375\n",
      "weighted avg       0.88      0.94      0.91       375\n",
      "\n"
     ]
    },
    {
     "name": "stderr",
     "output_type": "stream",
     "text": [
      "c:\\Users\\pnewc\\AppData\\Local\\Programs\\Python\\Python311\\Lib\\site-packages\\sklearn\\metrics\\_classification.py:1509: UndefinedMetricWarning: Precision is ill-defined and being set to 0.0 in labels with no predicted samples. Use `zero_division` parameter to control this behavior.\n",
      "  _warn_prf(average, modifier, f\"{metric.capitalize()} is\", len(result))\n",
      "c:\\Users\\pnewc\\AppData\\Local\\Programs\\Python\\Python311\\Lib\\site-packages\\sklearn\\metrics\\_classification.py:1509: UndefinedMetricWarning: Precision is ill-defined and being set to 0.0 in labels with no predicted samples. Use `zero_division` parameter to control this behavior.\n",
      "  _warn_prf(average, modifier, f\"{metric.capitalize()} is\", len(result))\n",
      "c:\\Users\\pnewc\\AppData\\Local\\Programs\\Python\\Python311\\Lib\\site-packages\\sklearn\\metrics\\_classification.py:1509: UndefinedMetricWarning: Precision is ill-defined and being set to 0.0 in labels with no predicted samples. Use `zero_division` parameter to control this behavior.\n",
      "  _warn_prf(average, modifier, f\"{metric.capitalize()} is\", len(result))\n"
     ]
    },
    {
     "data": {
      "text/plain": [
       "array([[351,   0],\n",
       "       [ 24,   0]], dtype=int64)"
      ]
     },
     "execution_count": 25,
     "metadata": {},
     "output_type": "execute_result"
    }
   ],
   "source": [
    "#LAMNA NASUS\n",
    "lamna = shark_filtered[shark_filtered[\"species_sciname\"]==4]\n",
    "x = lamna.drop(\"pres_abs\",axis=1)\n",
    "y = lamna.pres_abs\n",
    "x_train,x_test,y_train,y_test=train_test_split(x,y,test_size=0.25,random_state=0)\n",
    "LogReg = LogisticRegression()\n",
    "\n",
    "scaler = preprocessing.StandardScaler()\n",
    "x_train = scaler.fit_transform(x_train)\n",
    "x_test = scaler.transform(x_test)\n",
    "\n",
    "LogReg.fit(x_train,y_train)\n",
    "\n",
    "y_pred=LogReg.predict(x_test)\n",
    "\n",
    "print('Classes', LogReg.classes_)\n",
    "print('Intercept',LogReg.intercept_)\n",
    "print(\"Coefficients\", LogReg.coef_ )\n",
    "\n",
    "print(\"Accuracy\", LogReg.score(x_test, y_test))\n",
    "print(classification_report(y_test, LogReg.predict(x_test)))\n",
    "\n",
    "conf_mat = confusion_matrix(y_test, y_pred)\n",
    "conf_mat"
   ]
  },
  {
   "cell_type": "code",
   "execution_count": 26,
   "metadata": {},
   "outputs": [
    {
     "name": "stdout",
     "output_type": "stream",
     "text": [
      "Classes [0 1]\n",
      "Intercept [1.15862339]\n",
      "Coefficients [[-0.01110158 -0.27389563 -0.83100451  0.         -0.15892363]]\n",
      "Accuracy 0.8053333333333333\n",
      "              precision    recall  f1-score   support\n",
      "\n",
      "           0       0.93      0.27      0.42        97\n",
      "           1       0.80      0.99      0.88       278\n",
      "\n",
      "    accuracy                           0.81       375\n",
      "   macro avg       0.86      0.63      0.65       375\n",
      "weighted avg       0.83      0.81      0.76       375\n",
      "\n"
     ]
    },
    {
     "data": {
      "text/plain": [
       "array([[ 26,  71],\n",
       "       [  2, 276]], dtype=int64)"
      ]
     },
     "execution_count": 26,
     "metadata": {},
     "output_type": "execute_result"
    }
   ],
   "source": [
    "#LAMNIDAE\n",
    "lamni = shark_filtered[shark_filtered[\"species_sciname\"]==5]\n",
    "x = lamni.drop(\"pres_abs\",axis=1)\n",
    "y = lamni.pres_abs\n",
    "x_train,x_test,y_train,y_test=train_test_split(x,y,test_size=0.25,random_state=0)\n",
    "LogReg = LogisticRegression()\n",
    "\n",
    "scaler = preprocessing.StandardScaler()\n",
    "x_train = scaler.fit_transform(x_train)\n",
    "x_test = scaler.transform(x_test)\n",
    "\n",
    "LogReg.fit(x_train,y_train)\n",
    "\n",
    "y_pred=LogReg.predict(x_test)\n",
    "\n",
    "print('Classes', LogReg.classes_)\n",
    "print('Intercept',LogReg.intercept_)\n",
    "print(\"Coefficients\", LogReg.coef_ )\n",
    "\n",
    "print(\"Accuracy\", LogReg.score(x_test, y_test))\n",
    "print(classification_report(y_test, LogReg.predict(x_test)))\n",
    "\n",
    "conf_mat = confusion_matrix(y_test, y_pred)\n",
    "conf_mat"
   ]
  },
  {
   "cell_type": "code",
   "execution_count": 27,
   "metadata": {},
   "outputs": [
    {
     "name": "stdout",
     "output_type": "stream",
     "text": [
      "Classes [0 1]\n",
      "Intercept [1.88899632]\n",
      "Coefficients [[-0.31107978 -0.42983795 -0.8927983   0.         -0.17801102]]\n",
      "Accuracy 0.8613333333333333\n",
      "              precision    recall  f1-score   support\n",
      "\n",
      "           0       1.00      0.12      0.21        59\n",
      "           1       0.86      1.00      0.92       316\n",
      "\n",
      "    accuracy                           0.86       375\n",
      "   macro avg       0.93      0.56      0.57       375\n",
      "weighted avg       0.88      0.86      0.81       375\n",
      "\n"
     ]
    },
    {
     "data": {
      "text/plain": [
       "array([[  7,  52],\n",
       "       [  0, 316]], dtype=int64)"
      ]
     },
     "execution_count": 27,
     "metadata": {},
     "output_type": "execute_result"
    }
   ],
   "source": [
    "#PRIONACE GLAUCA\n",
    "prion = shark_filtered[shark_filtered[\"species_sciname\"]==6]\n",
    "x = prion.drop(\"pres_abs\",axis=1)\n",
    "y = prion.pres_abs\n",
    "x_train,x_test,y_train,y_test=train_test_split(x,y,test_size=0.25,random_state=0)\n",
    "LogReg = LogisticRegression()\n",
    "\n",
    "scaler = preprocessing.StandardScaler()\n",
    "x_train = scaler.fit_transform(x_train)\n",
    "x_test = scaler.transform(x_test)\n",
    "\n",
    "LogReg.fit(x_train,y_train)\n",
    "\n",
    "y_pred=LogReg.predict(x_test)\n",
    "\n",
    "print('Classes', LogReg.classes_)\n",
    "print('Intercept',LogReg.intercept_)\n",
    "print(\"Coefficients\", LogReg.coef_ )\n",
    "\n",
    "print(\"Accuracy\", LogReg.score(x_test, y_test))\n",
    "print(classification_report(y_test, LogReg.predict(x_test)))\n",
    "\n",
    "conf_mat = confusion_matrix(y_test, y_pred)\n",
    "conf_mat"
   ]
  },
  {
   "cell_type": "code",
   "execution_count": 28,
   "metadata": {},
   "outputs": [
    {
     "name": "stdout",
     "output_type": "stream",
     "text": [
      "Classes [0 1]\n",
      "Intercept [-0.35779957]\n",
      "Coefficients [[-0.76744848  0.81296026 -1.09823753  0.         -0.22405417]]\n",
      "Accuracy 0.7306666666666667\n",
      "              precision    recall  f1-score   support\n",
      "\n",
      "           0       0.73      0.76      0.74       192\n",
      "           1       0.73      0.70      0.72       183\n",
      "\n",
      "    accuracy                           0.73       375\n",
      "   macro avg       0.73      0.73      0.73       375\n",
      "weighted avg       0.73      0.73      0.73       375\n",
      "\n"
     ]
    },
    {
     "data": {
      "text/plain": [
       "array([[145,  47],\n",
       "       [ 54, 129]], dtype=int64)"
      ]
     },
     "execution_count": 28,
     "metadata": {},
     "output_type": "execute_result"
    }
   ],
   "source": [
    "#SHARKS NEI\n",
    "nei = shark_filtered[shark_filtered[\"species_sciname\"]==7]\n",
    "x = nei.drop(\"pres_abs\",axis=1)\n",
    "y = nei.pres_abs\n",
    "x_train,x_test,y_train,y_test=train_test_split(x,y,test_size=0.25,random_state=0)\n",
    "LogReg = LogisticRegression()\n",
    "\n",
    "scaler = preprocessing.StandardScaler()\n",
    "x_train = scaler.fit_transform(x_train)\n",
    "x_test = scaler.transform(x_test)\n",
    "\n",
    "LogReg.fit(x_train,y_train)\n",
    "\n",
    "y_pred=LogReg.predict(x_test)\n",
    "\n",
    "print('Classes', LogReg.classes_)\n",
    "print('Intercept',LogReg.intercept_)\n",
    "print(\"Coefficients\", LogReg.coef_ )\n",
    "\n",
    "print(\"Accuracy\", LogReg.score(x_test, y_test))\n",
    "print(classification_report(y_test, LogReg.predict(x_test)))\n",
    "\n",
    "conf_mat = confusion_matrix(y_test, y_pred)\n",
    "conf_mat"
   ]
  },
  {
   "cell_type": "code",
   "execution_count": 29,
   "metadata": {},
   "outputs": [
    {
     "name": "stdout",
     "output_type": "stream",
     "text": [
      "Classes [0 1]\n",
      "Intercept [-3.7999059]\n",
      "Coefficients [[ 0.04013368  1.04553627 -0.78023348  0.         -0.14486138]]\n",
      "Accuracy 0.968\n",
      "              precision    recall  f1-score   support\n",
      "\n",
      "           0       0.97      1.00      0.98       363\n",
      "           1       0.00      0.00      0.00        12\n",
      "\n",
      "    accuracy                           0.97       375\n",
      "   macro avg       0.48      0.50      0.49       375\n",
      "weighted avg       0.94      0.97      0.95       375\n",
      "\n"
     ]
    },
    {
     "name": "stderr",
     "output_type": "stream",
     "text": [
      "c:\\Users\\pnewc\\AppData\\Local\\Programs\\Python\\Python311\\Lib\\site-packages\\sklearn\\metrics\\_classification.py:1509: UndefinedMetricWarning: Precision is ill-defined and being set to 0.0 in labels with no predicted samples. Use `zero_division` parameter to control this behavior.\n",
      "  _warn_prf(average, modifier, f\"{metric.capitalize()} is\", len(result))\n",
      "c:\\Users\\pnewc\\AppData\\Local\\Programs\\Python\\Python311\\Lib\\site-packages\\sklearn\\metrics\\_classification.py:1509: UndefinedMetricWarning: Precision is ill-defined and being set to 0.0 in labels with no predicted samples. Use `zero_division` parameter to control this behavior.\n",
      "  _warn_prf(average, modifier, f\"{metric.capitalize()} is\", len(result))\n",
      "c:\\Users\\pnewc\\AppData\\Local\\Programs\\Python\\Python311\\Lib\\site-packages\\sklearn\\metrics\\_classification.py:1509: UndefinedMetricWarning: Precision is ill-defined and being set to 0.0 in labels with no predicted samples. Use `zero_division` parameter to control this behavior.\n",
      "  _warn_prf(average, modifier, f\"{metric.capitalize()} is\", len(result))\n"
     ]
    },
    {
     "data": {
      "text/plain": [
       "array([[363,   0],\n",
       "       [ 12,   0]], dtype=int64)"
      ]
     },
     "execution_count": 29,
     "metadata": {},
     "output_type": "execute_result"
    }
   ],
   "source": [
    "#SPHYRNA\n",
    "sphyrna = shark_filtered[shark_filtered[\"species_sciname\"]==8]\n",
    "x = sphyrna.drop(\"pres_abs\",axis=1)\n",
    "y = sphyrna.pres_abs\n",
    "x_train,x_test,y_train,y_test=train_test_split(x,y,test_size=0.25,random_state=0)\n",
    "LogReg = LogisticRegression()\n",
    "\n",
    "scaler = preprocessing.StandardScaler()\n",
    "x_train = scaler.fit_transform(x_train)\n",
    "x_test = scaler.transform(x_test)\n",
    "\n",
    "LogReg.fit(x_train,y_train)\n",
    "\n",
    "y_pred=LogReg.predict(x_test)\n",
    "\n",
    "print('Classes', LogReg.classes_)\n",
    "print('Intercept',LogReg.intercept_)\n",
    "print(\"Coefficients\", LogReg.coef_ )\n",
    "\n",
    "print(\"Accuracy\", LogReg.score(x_test, y_test))\n",
    "print(classification_report(y_test, LogReg.predict(x_test)))\n",
    "\n",
    "conf_mat = confusion_matrix(y_test, y_pred)\n",
    "conf_mat"
   ]
  }
 ],
 "metadata": {
  "kernelspec": {
   "display_name": "Python 3",
   "language": "python",
   "name": "python3"
  },
  "language_info": {
   "codemirror_mode": {
    "name": "ipython",
    "version": 3
   },
   "file_extension": ".py",
   "mimetype": "text/x-python",
   "name": "python",
   "nbconvert_exporter": "python",
   "pygments_lexer": "ipython3",
   "version": "3.11.5"
  }
 },
 "nbformat": 4,
 "nbformat_minor": 2
}
